{
 "cells": [
  {
   "cell_type": "code",
   "execution_count": 2,
   "metadata": {},
   "outputs": [],
   "source": [
    "import os\n",
    "import sys\n",
    "\n",
    "module_path = os.path.abspath(os.path.join('../src'))\n",
    "if module_path not in sys.path:\n",
    "    sys.path.append(module_path)"
   ]
  },
  {
   "cell_type": "code",
   "execution_count": 3,
   "metadata": {},
   "outputs": [],
   "source": [
    "from framework.parser.pandas_parser import parse_dataframe_as_items\n",
    "from framework.property import CategoricalProperty, NumericalProperty\n",
    "\n",
    "import pandas as pd\n",
    "frame = pd.read_csv(\"../../Datasets/Temp/train.csv\")\n",
    "\n",
    "mapping = {\n",
    "    \"MSSubClass\": CategoricalProperty,\n",
    "    \"MSZoning\": CategoricalProperty,\n",
    "    \"LotFrontage\": NumericalProperty,\n",
    "    \"LotArea\": NumericalProperty,\n",
    "    \"Street\": CategoricalProperty,\n",
    "    \"Alley\": CategoricalProperty,\n",
    "    \"LotShape\": CategoricalProperty,\n",
    "    \"LandContour\": CategoricalProperty,\n",
    "    \"Utilities\": CategoricalProperty,\n",
    "    \"LotConfig\": CategoricalProperty,\n",
    "    \"LandSlope\": CategoricalProperty,\n",
    "    \"Neighborhood\": CategoricalProperty,\n",
    "    \"Condition1\": CategoricalProperty,\n",
    "    \"Condition2\": CategoricalProperty,\n",
    "    \"BldgType\": CategoricalProperty,\n",
    "    \"HouseStyle\": CategoricalProperty\n",
    "}\n",
    "\n",
    "items_og = parse_dataframe_as_items(frame, mapping, id_col=\"Id\")"
   ]
  },
  {
   "cell_type": "code",
   "execution_count": 4,
   "metadata": {},
   "outputs": [
    {
     "name": "stdout",
     "output_type": "stream",
     "text": [
      "Starting item: <id:837, properties:{'MSSubClass': '30', 'MSZoning': 'RM', 'LotFrontage': '90.0', 'LotArea': '8100.0', 'Street': 'Pave', 'Alley': 'Pave', 'LotShape': 'Reg', 'LandContour': 'Lvl', 'Utilities': 'AllPub', 'LotConfig': 'Inside', 'LandSlope': 'Gtl', 'Neighborhood': 'OldTown', 'Condition1': 'Norm', 'Condition2': 'Norm', 'BldgType': '1Fam', 'HouseStyle': '1Story'}>\n",
      "Chosen critique: <NotCritique> (for Pave)\n",
      "New anchor: <id:722, properties:{'MSSubClass': '120', 'MSZoning': 'RM', 'LotFrontage': 'nan', 'LotArea': '4426.0', 'Street': 'Pave', 'Alley': 'nan', 'LotShape': 'Reg', 'LandContour': 'Lvl', 'Utilities': 'AllPub', 'LotConfig': 'Inside', 'LandSlope': 'Gtl', 'Neighborhood': 'CollgCr', 'Condition1': 'Norm', 'Condition2': 'Norm', 'BldgType': 'TwnhsE', 'HouseStyle': '1Story'}>\n",
      "Items left: 1419\n",
      "Chosen critique: <NotCritique> (for CollgCr)\n",
      "New anchor: <id:747, properties:{'MSSubClass': '60', 'MSZoning': 'RL', 'LotFrontage': 'nan', 'LotArea': '8795.0', 'Street': 'Pave', 'Alley': 'nan', 'LotShape': 'IR1', 'LandContour': 'Lvl', 'Utilities': 'AllPub', 'LotConfig': 'Inside', 'LandSlope': 'Gtl', 'Neighborhood': 'Gilbert', 'Condition1': 'Norm', 'Condition2': 'Norm', 'BldgType': '1Fam', 'HouseStyle': '2Story'}>\n",
      "Items left: 1269\n",
      "Chosen critique: <NotCritique> (for 8795.0)\n",
      "New anchor: <id:924, properties:{'MSSubClass': '120', 'MSZoning': 'RL', 'LotFrontage': '50.0', 'LotArea': '8012.0', 'Street': 'Pave', 'Alley': 'nan', 'LotShape': 'Reg', 'LandContour': 'Lvl', 'Utilities': 'AllPub', 'LotConfig': 'Inside', 'LandSlope': 'Gtl', 'Neighborhood': 'SawyerW', 'Condition1': 'Norm', 'Condition2': 'Norm', 'BldgType': 'TwnhsE', 'HouseStyle': '1Story'}>\n",
      "Items left: 1268\n",
      "Chosen critique: <NotCritique> (for 8012.0)\n",
      "New anchor: <id:1147, properties:{'MSSubClass': '20', 'MSZoning': 'RL', 'LotFrontage': 'nan', 'LotArea': '11200.0', 'Street': 'Pave', 'Alley': 'nan', 'LotShape': 'Reg', 'LandContour': 'Lvl', 'Utilities': 'AllPub', 'LotConfig': 'Inside', 'LandSlope': 'Gtl', 'Neighborhood': 'SawyerW', 'Condition1': 'Norm', 'Condition2': 'Norm', 'BldgType': '1Fam', 'HouseStyle': '1Story'}>\n",
      "Items left: 1265\n",
      "Chosen critique: <NotCritique> (for nan)\n",
      "New anchor: <id:495, properties:{'MSSubClass': '30', 'MSZoning': 'RM', 'LotFrontage': '50.0', 'LotArea': '5784.0', 'Street': 'Pave', 'Alley': 'nan', 'LotShape': 'Reg', 'LandContour': 'Lvl', 'Utilities': 'AllPub', 'LotConfig': 'Inside', 'LandSlope': 'Gtl', 'Neighborhood': 'OldTown', 'Condition1': 'Artery', 'Condition2': 'Norm', 'BldgType': '1Fam', 'HouseStyle': '1Story'}>\n",
      "Items left: 1264\n",
      "Chosen critique: <NotCritique> (for 1Story)\n",
      "New anchor: <id:1077, properties:{'MSSubClass': '50', 'MSZoning': 'RL', 'LotFrontage': '60.0', 'LotArea': '10800.0', 'Street': 'Pave', 'Alley': 'Grvl', 'LotShape': 'Reg', 'LandContour': 'Lvl', 'Utilities': 'AllPub', 'LotConfig': 'Inside', 'LandSlope': 'Gtl', 'Neighborhood': 'OldTown', 'Condition1': 'Norm', 'Condition2': 'Norm', 'BldgType': '1Fam', 'HouseStyle': '1.5Fin'}>\n",
      "Items left: 644\n",
      "Chosen critique: <NotCritique> (for OldTown)\n",
      "New anchor: <id:236, properties:{'MSSubClass': '160', 'MSZoning': 'RM', 'LotFrontage': '21.0', 'LotArea': '1680.0', 'Street': 'Pave', 'Alley': 'nan', 'LotShape': 'Reg', 'LandContour': 'Lvl', 'Utilities': 'AllPub', 'LotConfig': 'Inside', 'LandSlope': 'Gtl', 'Neighborhood': 'BrDale', 'Condition1': 'Norm', 'Condition2': 'Norm', 'BldgType': 'TwnhsE', 'HouseStyle': '2Story'}>\n",
      "Items left: 568\n",
      "Chosen critique: <NotCritique> (for BrDale)\n",
      "New anchor: <id:829, properties:{'MSSubClass': '60', 'MSZoning': 'RL', 'LotFrontage': 'nan', 'LotArea': '28698.0', 'Street': 'Pave', 'Alley': 'nan', 'LotShape': 'IR2', 'LandContour': 'Low', 'Utilities': 'AllPub', 'LotConfig': 'CulDSac', 'LandSlope': 'Sev', 'Neighborhood': 'ClearCr', 'Condition1': 'Norm', 'Condition2': 'Norm', 'BldgType': '1Fam', 'HouseStyle': '2Story'}>\n",
      "Items left: 552\n",
      "Chosen critique: <NotCritique> (for Low)\n",
      "New anchor: <id:70, properties:{'MSSubClass': '50', 'MSZoning': 'RL', 'LotFrontage': '81.0', 'LotArea': '15593.0', 'Street': 'Pave', 'Alley': 'nan', 'LotShape': 'Reg', 'LandContour': 'Lvl', 'Utilities': 'AllPub', 'LotConfig': 'Corner', 'LandSlope': 'Gtl', 'Neighborhood': 'ClearCr', 'Condition1': 'Norm', 'Condition2': 'Norm', 'BldgType': '1Fam', 'HouseStyle': '1.5Fin'}>\n",
      "Items left: 541\n",
      "Chosen critique: <NotCritique> (for 50)\n",
      "New anchor: <id:922, properties:{'MSSubClass': '90', 'MSZoning': 'RL', 'LotFrontage': '67.0', 'LotArea': '8777.0', 'Street': 'Pave', 'Alley': 'nan', 'LotShape': 'Reg', 'LandContour': 'Lvl', 'Utilities': 'AllPub', 'LotConfig': 'Inside', 'LandSlope': 'Gtl', 'Neighborhood': 'Edwards', 'Condition1': 'Feedr', 'Condition2': 'Norm', 'BldgType': 'Duplex', 'HouseStyle': '1.5Fin'}>\n",
      "Items left: 437\n",
      "Chosen critique: <NotCritique> (for nan)\n",
      "New anchor: <id:693, properties:{'MSSubClass': '60', 'MSZoning': 'RL', 'LotFrontage': '42.0', 'LotArea': '26178.0', 'Street': 'Pave', 'Alley': 'nan', 'LotShape': 'IR1', 'LandContour': 'Lvl', 'Utilities': 'AllPub', 'LotConfig': 'Inside', 'LandSlope': 'Mod', 'Neighborhood': 'Timber', 'Condition1': 'Norm', 'Condition2': 'Norm', 'BldgType': '1Fam', 'HouseStyle': '2Story'}>\n",
      "Items left: 436\n",
      "Chosen critique: <NotCritique> (for 42.0)\n",
      "New anchor: <id:692, properties:{'MSSubClass': '60', 'MSZoning': 'RL', 'LotFrontage': '104.0', 'LotArea': '21535.0', 'Street': 'Pave', 'Alley': 'nan', 'LotShape': 'IR1', 'LandContour': 'Lvl', 'Utilities': 'AllPub', 'LotConfig': 'Corner', 'LandSlope': 'Gtl', 'Neighborhood': 'NoRidge', 'Condition1': 'Norm', 'Condition2': 'Norm', 'BldgType': '1Fam', 'HouseStyle': '2Story'}>\n",
      "Items left: 434\n",
      "Chosen critique: <NotCritique> (for 21535.0)\n",
      "New anchor: <id:575, properties:{'MSSubClass': '80', 'MSZoning': 'RL', 'LotFrontage': '70.0', 'LotArea': '10500.0', 'Street': 'Pave', 'Alley': 'nan', 'LotShape': 'Reg', 'LandContour': 'Lvl', 'Utilities': 'AllPub', 'LotConfig': 'FR2', 'LandSlope': 'Gtl', 'Neighborhood': 'NAmes', 'Condition1': 'Norm', 'Condition2': 'Norm', 'BldgType': '1Fam', 'HouseStyle': 'SLvl'}>\n",
      "Items left: 433\n",
      "Chosen critique: <NotCritique> (for SLvl)\n",
      "New anchor: <id:365, properties:{'MSSubClass': '60', 'MSZoning': 'RL', 'LotFrontage': 'nan', 'LotArea': '18800.0', 'Street': 'Pave', 'Alley': 'nan', 'LotShape': 'IR1', 'LandContour': 'Lvl', 'Utilities': 'AllPub', 'LotConfig': 'FR2', 'LandSlope': 'Gtl', 'Neighborhood': 'NWAmes', 'Condition1': 'Norm', 'Condition2': 'Norm', 'BldgType': '1Fam', 'HouseStyle': '2Story'}>\n",
      "Items left: 373\n",
      "Chosen critique: <NotCritique> (for 18800.0)\n",
      "New anchor: <id:622, properties:{'MSSubClass': '60', 'MSZoning': 'RL', 'LotFrontage': '90.0', 'LotArea': '10800.0', 'Street': 'Pave', 'Alley': 'nan', 'LotShape': 'Reg', 'LandContour': 'Lvl', 'Utilities': 'AllPub', 'LotConfig': 'Inside', 'LandSlope': 'Gtl', 'Neighborhood': 'NWAmes', 'Condition1': 'Norm', 'Condition2': 'Norm', 'BldgType': '1Fam', 'HouseStyle': '2Story'}>\n",
      "Items left: 372\n",
      "Chosen critique: <DirectionalCritique> DirectionalCritiqueDirections.SMALLER (for 90.0)\n",
      "New anchor: <id:1089, properties:{'MSSubClass': '160', 'MSZoning': 'RM', 'LotFrontage': '24.0', 'LotArea': '2522.0', 'Street': 'Pave', 'Alley': 'nan', 'LotShape': 'Reg', 'LandContour': 'Lvl', 'Utilities': 'AllPub', 'LotConfig': 'Inside', 'LandSlope': 'Gtl', 'Neighborhood': 'Edwards', 'Condition1': 'Norm', 'Condition2': 'Norm', 'BldgType': 'Twnhs', 'HouseStyle': '2Story'}>\n",
      "Items left: 236\n",
      "Chosen critique: <DirectionalCritique> DirectionalCritiqueDirections.GREATER (for 24.0)\n",
      "New anchor: <id:555, properties:{'MSSubClass': '60', 'MSZoning': 'RL', 'LotFrontage': '85.0', 'LotArea': '10625.0', 'Street': 'Pave', 'Alley': 'nan', 'LotShape': 'Reg', 'LandContour': 'Lvl', 'Utilities': 'AllPub', 'LotConfig': 'Inside', 'LandSlope': 'Gtl', 'Neighborhood': 'NridgHt', 'Condition1': 'Norm', 'Condition2': 'Norm', 'BldgType': '1Fam', 'HouseStyle': '2Story'}>\n",
      "Items left: 216\n",
      "Chosen critique: <NotCritique> (for nan)\n",
      "New anchor: <id:4, properties:{'MSSubClass': '70', 'MSZoning': 'RL', 'LotFrontage': '60.0', 'LotArea': '9550.0', 'Street': 'Pave', 'Alley': 'nan', 'LotShape': 'IR1', 'LandContour': 'Lvl', 'Utilities': 'AllPub', 'LotConfig': 'Corner', 'LandSlope': 'Gtl', 'Neighborhood': 'Crawfor', 'Condition1': 'Norm', 'Condition2': 'Norm', 'BldgType': '1Fam', 'HouseStyle': '2Story'}>\n",
      "Items left: 215\n",
      "Chosen critique: <NotCritique> (for RL)\n",
      "New anchor: <id:400, properties:{'MSSubClass': '60', 'MSZoning': 'FV', 'LotFrontage': '65.0', 'LotArea': '8125.0', 'Street': 'Pave', 'Alley': 'nan', 'LotShape': 'Reg', 'LandContour': 'Lvl', 'Utilities': 'AllPub', 'LotConfig': 'Inside', 'LandSlope': 'Gtl', 'Neighborhood': 'Somerst', 'Condition1': 'Norm', 'Condition2': 'Norm', 'BldgType': '1Fam', 'HouseStyle': '2Story'}>\n",
      "Items left: 48\n",
      "Chosen critique: <NotCritique> (for 65.0)\n",
      "New anchor: <id:330, properties:{'MSSubClass': '70', 'MSZoning': 'RM', 'LotFrontage': '60.0', 'LotArea': '6402.0', 'Street': 'Pave', 'Alley': 'nan', 'LotShape': 'Reg', 'LandContour': 'Lvl', 'Utilities': 'AllPub', 'LotConfig': 'Corner', 'LandSlope': 'Gtl', 'Neighborhood': 'IDOTRR', 'Condition1': 'Norm', 'Condition2': 'Norm', 'BldgType': '1Fam', 'HouseStyle': '2Story'}>\n",
      "Items left: 44\n",
      "Chosen critique: <DirectionalCritique> DirectionalCritiqueDirections.GREATER (for 60.0)\n",
      "New anchor: <id:687, properties:{'MSSubClass': '60', 'MSZoning': 'FV', 'LotFrontage': '84.0', 'LotArea': '10207.0', 'Street': 'Pave', 'Alley': 'nan', 'LotShape': 'Reg', 'LandContour': 'Lvl', 'Utilities': 'AllPub', 'LotConfig': 'Inside', 'LandSlope': 'Gtl', 'Neighborhood': 'Somerst', 'Condition1': 'Norm', 'Condition2': 'Norm', 'BldgType': '1Fam', 'HouseStyle': '2Story'}>\n",
      "Items left: 21\n",
      "Chosen critique: <DirectionalCritique> DirectionalCritiqueDirections.GREATER (for 10207.0)\n",
      "New anchor: <id:1375, properties:{'MSSubClass': '60', 'MSZoning': 'FV', 'LotFrontage': '85.0', 'LotArea': '10625.0', 'Street': 'Pave', 'Alley': 'nan', 'LotShape': 'Reg', 'LandContour': 'Lvl', 'Utilities': 'AllPub', 'LotConfig': 'Inside', 'LandSlope': 'Gtl', 'Neighborhood': 'Somerst', 'Condition1': 'Norm', 'Condition2': 'Norm', 'BldgType': '1Fam', 'HouseStyle': '2Story'}>\n",
      "Items left: 5\n",
      "Chosen critique: <NotCritique> (for 10625.0)\n",
      "New anchor: <id:1088, properties:{'MSSubClass': '60', 'MSZoning': 'FV', 'LotFrontage': '85.0', 'LotArea': '10574.0', 'Street': 'Pave', 'Alley': 'nan', 'LotShape': 'Reg', 'LandContour': 'Lvl', 'Utilities': 'AllPub', 'LotConfig': 'Inside', 'LandSlope': 'Gtl', 'Neighborhood': 'Somerst', 'Condition1': 'Norm', 'Condition2': 'Norm', 'BldgType': '1Fam', 'HouseStyle': '2Story'}>\n",
      "Items left: 4\n",
      "Chosen critique: <NotCritique> (for 10574.0)\n",
      "New anchor: <id:271, properties:{'MSSubClass': '60', 'MSZoning': 'FV', 'LotFrontage': '84.0', 'LotArea': '10728.0', 'Street': 'Pave', 'Alley': 'nan', 'LotShape': 'Reg', 'LandContour': 'Lvl', 'Utilities': 'AllPub', 'LotConfig': 'Inside', 'LandSlope': 'Gtl', 'Neighborhood': 'Somerst', 'Condition1': 'Norm', 'Condition2': 'Norm', 'BldgType': '1Fam', 'HouseStyle': '2Story'}>\n",
      "Items left: 3\n",
      "24\n"
     ]
    }
   ],
   "source": [
    "import random as rng\n",
    "from random import choice\n",
    "from framework.critique.unit_critique_generator import generate_valid_critiques\n",
    "\n",
    "items = items_og.copy()\n",
    "\n",
    "rng.seed()\n",
    "\n",
    "# Select random item as starting point and goal\n",
    "anchor = choice(items)\n",
    "goal = choice(items)\n",
    "\n",
    "# Make sure that they are different\n",
    "if anchor == goal:\n",
    "    raise Exception(\"Goal and anchor the same\")\n",
    "\n",
    "print(\"Starting item: {}\".format(anchor))\n",
    "steps = 0\n",
    "while anchor != goal and steps < 10000:\n",
    "    # Get \"recommended\" critiques for current anchor\n",
    "    possible_critiques = generate_valid_critiques(anchor)\n",
    "    # Temp shuffle since no logic to order critiques   \n",
    "    rng.shuffle(possible_critiques)\n",
    "    \n",
    "    # Atm pick top critique that goal item passes\n",
    "    i = 0\n",
    "    prop_name = possible_critiques[i].prop_name\n",
    "    current_crit = possible_critiques[i].critique\n",
    "    while not current_crit.passes_critique(goal[prop_name]):\n",
    "        i+=1\n",
    "        prop_name = possible_critiques[i].prop_name\n",
    "        current_crit = possible_critiques[i].critique\n",
    "    print(\"Chosen critique: {}\".format(current_crit))\n",
    "    # Remove all items that do not match the critique\n",
    "    items = list(item for item in items if current_crit.passes_critique(item[prop_name]))\n",
    "    # ATM pick random other from remaining set but should use a recommender here\n",
    "    anchor = choice(items)\n",
    "    print(\"New anchor: {}\".format(anchor))\n",
    "    print(\"Items left: {}\".format(len(items)))\n",
    "    steps+=1\n",
    "print(steps)"
   ]
  },
  {
   "cell_type": "code",
   "execution_count": 15,
   "metadata": {},
   "outputs": [],
   "source": [
    "from framework.critique.critique_recommender import recommend_critiques, calc_anchor_crits_support_structure\n",
    "\n",
    "possible_critiques = generate_critiques(anchor)\n",
    "support = recommend_critiques(possible_critiques, items_og)\n",
    "\n",
    "# Sort the critiques\n",
    "as_tuples = list((prop_name,critique,support) for prop_name, critiques in support.items() for critique, support in critiques.items())\n",
    "as_tuples = sorted(as_tuples, key=lambda x: x[2])"
   ]
  },
  {
   "cell_type": "code",
   "execution_count": 17,
   "metadata": {},
   "outputs": [
    {
     "name": "stdout",
     "output_type": "stream",
     "text": [
      "Using matplotlib backend: TkAgg\n"
     ]
    },
    {
     "data": {
      "text/plain": [
       "<matplotlib.axes._subplots.AxesSubplot at 0x7f1f70369fd0>"
      ]
     },
     "execution_count": 17,
     "metadata": {},
     "output_type": "execute_result"
    }
   ],
   "source": [
    "%matplotlib\n",
    "import seaborn as sns\n",
    "# Plot distribution of critiques support\n",
    "support_of_critis = list(support for _,_,support in as_tuples)\n",
    "sns.set(style=\"darkgrid\")\n",
    "sns.lineplot(x=list(range(len(support_of_critis))),y=support_of_critis)"
   ]
  }
 ],
 "metadata": {
  "kernelspec": {
   "display_name": "conversationalproject_work",
   "language": "python",
   "name": "conversationalproject_work"
  },
  "language_info": {
   "codemirror_mode": {
    "name": "ipython",
    "version": 3
   },
   "file_extension": ".py",
   "mimetype": "text/x-python",
   "name": "python",
   "nbconvert_exporter": "python",
   "pygments_lexer": "ipython3",
   "version": "3.8.3"
  }
 },
 "nbformat": 4,
 "nbformat_minor": 4
}
