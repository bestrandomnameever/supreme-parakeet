{
 "cells": [
  {
   "cell_type": "markdown",
   "metadata": {},
   "source": [
    "The automatic nature of the critique generation allows for each property to have an intrisic ability to support a critique. Some critiques however are supported but not usefull. An example: a price is a NumericalProperty. Every property however allows for a NotCritique. The usefullness of this critique is however limited since its support is almost always 100% (few items have the exact same price)\n",
    "\n",
    "Critique types with universal high support can thus have a negative impact since they don't actually apply a useful filter. "
   ]
  },
  {
   "cell_type": "code",
   "execution_count": 2,
   "metadata": {},
   "outputs": [],
   "source": [
    "import os\n",
    "import sys\n",
    "\n",
    "module_path = os.path.abspath(os.path.join('../src'))\n",
    "if module_path not in sys.path:\n",
    "    sys.path.append(module_path)"
   ]
  },
  {
   "cell_type": "code",
   "execution_count": 3,
   "metadata": {},
   "outputs": [],
   "source": [
    "from framework.parser.pandas_parser import parse_dataframe_as_items\n",
    "from framework.property import CategoricalProperty, NumericalProperty\n",
    "\n",
    "import pandas as pd\n",
    "frame = pd.read_csv(\"../../Datasets/Temp/train.csv\")\n",
    "\n",
    "mapping = {\n",
    "    \"MSSubClass\": CategoricalProperty,\n",
    "    \"MSZoning\": CategoricalProperty,\n",
    "    \"LotFrontage\": NumericalProperty,\n",
    "    \"LotArea\": NumericalProperty,\n",
    "    \"Street\": CategoricalProperty,\n",
    "    \"Alley\": CategoricalProperty,\n",
    "    \"LotShape\": CategoricalProperty,\n",
    "    \"LandContour\": CategoricalProperty,\n",
    "    \"Utilities\": CategoricalProperty,\n",
    "    \"LotConfig\": CategoricalProperty,\n",
    "    \"LandSlope\": CategoricalProperty,\n",
    "    \"Neighborhood\": CategoricalProperty,\n",
    "    \"Condition1\": CategoricalProperty,\n",
    "    \"Condition2\": CategoricalProperty,\n",
    "    \"BldgType\": CategoricalProperty,\n",
    "    \"HouseStyle\": CategoricalProperty\n",
    "}\n",
    "\n",
    "items = parse_dataframe_as_items(frame, mapping, id_col=\"Id\")"
   ]
  },
  {
   "cell_type": "code",
   "execution_count": 8,
   "metadata": {},
   "outputs": [],
   "source": [
    "from framework.critique.unit_critique_generator import generate_valid_critiques\n",
    "from framework.critique.critique_recommender import get_passing_items_for_critique\n",
    "\n",
    "struct = {}\n",
    "\n",
    "for item in items:\n",
    "    # Get all critiques for the item\n",
    "    for crit in generate_valid_critiques(item):\n",
    "        # TODO Should exclude item from which critique is generated        \n",
    "        crit_support = len(get_passing_items_for_critique(crit, items)) / len(items)\n",
    "        if crit.prop_name not in struct:\n",
    "            struct[crit.prop_name] = {}\n",
    "        if type(crit.critique) not in struct[crit.prop_name]:\n",
    "            struct[crit.prop_name][type(crit.critique)] = (crit_support,1)\n",
    "        else:\n",
    "            prev_avg = struct[crit.prop_name][type(crit.critique)][0]\n",
    "            prev_count = struct[crit.prop_name][type(crit.critique)][1]\n",
    "            struct[crit.prop_name][type(crit.critique)] = (((prev_avg*prev_count)+crit_support)/(prev_count+1), prev_count+1)"
   ]
  },
  {
   "cell_type": "code",
   "execution_count": 9,
   "metadata": {},
   "outputs": [
    {
     "data": {
      "text/plain": [
       "{'MSSubClass': {framework.critique.unit.not_critique.NotCritique: (0.8005179208106642,\n",
       "   1460)},\n",
       " 'MSZoning': {framework.critique.unit.not_critique.NotCritique: (0.3540504785137881,\n",
       "   1460)},\n",
       " 'LotFrontage': {framework.critique.unit.directional_critique.DirectionalCritique: (0.32697691874648194,\n",
       "   2920),\n",
       "  framework.critique.unit.not_critique.NotCritique: (0.9771570651154101,\n",
       "   1460)},\n",
       " 'LotArea': {framework.critique.unit.directional_critique.DirectionalCritique: (0.4989209983111283,\n",
       "   2920),\n",
       "  framework.critique.unit.not_critique.NotCritique: (0.9978419966222666,\n",
       "   1460)},\n",
       " 'Street': {framework.critique.unit.not_critique.NotCritique: (0.008185400638018505,\n",
       "   1460)},\n",
       " 'Alley': {framework.critique.unit.not_critique.NotCritique: (0.9973963220116429,\n",
       "   1460)},\n",
       " 'LotShape': {framework.critique.unit.not_critique.NotCritique: (0.48786732970539415,\n",
       "   1460)},\n",
       " 'LandContour': {framework.critique.unit.not_critique.NotCritique: (0.19005160442859584,\n",
       "   1460)},\n",
       " 'Utilities': {framework.critique.unit.not_critique.NotCritique: (0.0013689247513604976,\n",
       "   1460)},\n",
       " 'LotConfig': {framework.critique.unit.not_critique.NotCritique: (0.44317226496529794,\n",
       "   1460)},\n",
       " 'LandSlope': {framework.critique.unit.not_critique.NotCritique: (0.10193375867892639,\n",
       "   1460)},\n",
       " 'Neighborhood': {framework.critique.unit.not_critique.NotCritique: (0.9316569712891718,\n",
       "   1460)},\n",
       " 'Condition1': {framework.critique.unit.not_critique.NotCritique: (0.25046162507036795,\n",
       "   1460)},\n",
       " 'Condition2': {framework.critique.unit.not_critique.NotCritique: (0.02041846500281455,\n",
       "   1460)},\n",
       " 'BldgType': {framework.critique.unit.not_critique.NotCritique: (0.29306155000938006,\n",
       "   1460)},\n",
       " 'HouseStyle': {framework.critique.unit.not_critique.NotCritique: (0.6459035466316294,\n",
       "   1460)}}"
      ]
     },
     "execution_count": 9,
     "metadata": {},
     "output_type": "execute_result"
    }
   ],
   "source": [
    "struct"
   ]
  },
  {
   "cell_type": "code",
   "execution_count": 10,
   "metadata": {},
   "outputs": [
    {
     "data": {
      "text/plain": [
       "[framework.critique.unit.directional_critique.DirectionalCritique,\n",
       " framework.critique.unit.not_critique.NotCritique]"
      ]
     },
     "execution_count": 10,
     "metadata": {},
     "output_type": "execute_result"
    }
   ],
   "source": [
    "items[0].properties[\"LotFrontage\"].get_valid_critiques()"
   ]
  },
  {
   "cell_type": "code",
   "execution_count": 6,
   "metadata": {},
   "outputs": [
    {
     "name": "stdout",
     "output_type": "stream",
     "text": [
      "<id:1, properties:{'MSSubClass': '60', 'MSZoning': 'RL', 'LotFrontage': '65.0', 'LotArea': '8450.0', 'Street': 'Pave', 'Alley': 'nan', 'LotShape': 'Reg', 'LandContour': 'Lvl', 'Utilities': 'AllPub', 'LotConfig': 'Inside', 'LandSlope': 'Gtl', 'Neighborhood': 'CollgCr', 'Condition1': 'Norm', 'Condition2': 'Norm', 'BldgType': '1Fam', 'HouseStyle': '2Story'}>\n"
     ]
    }
   ],
   "source": [
    "print(items[0])"
   ]
  }
 ],
 "metadata": {
  "kernelspec": {
   "display_name": "conversationalproject_work",
   "language": "python",
   "name": "conversationalproject_work"
  },
  "language_info": {
   "codemirror_mode": {
    "name": "ipython",
    "version": 3
   },
   "file_extension": ".py",
   "mimetype": "text/x-python",
   "name": "python",
   "nbconvert_exporter": "python",
   "pygments_lexer": "ipython3",
   "version": "3.8.3"
  }
 },
 "nbformat": 4,
 "nbformat_minor": 4
}
