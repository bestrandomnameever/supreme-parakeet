{
 "cells": [
  {
   "cell_type": "code",
   "execution_count": 1,
   "metadata": {},
   "outputs": [],
   "source": [
    "import os\n",
    "import sys\n",
    "\n",
    "module_path = os.path.abspath(os.path.join('../../src'))\n",
    "if module_path not in sys.path:\n",
    "    sys.path.append(module_path)\n",
    "    \n",
    "import pandas as pd"
   ]
  },
  {
   "cell_type": "markdown",
   "metadata": {},
   "source": [
    "# Critiquing"
   ]
  },
  {
   "cell_type": "markdown",
   "metadata": {},
   "source": [
    "At the heart of a critiqueing recommender lie **critiques**. Given an **anchor** or reference item, it asks for a recommendation based on that item **but** that differs in a certain **aspect(s)**. This feedback are what is called **critiques**. "
   ]
  },
  {
   "cell_type": "code",
   "execution_count": 4,
   "metadata": {},
   "outputs": [],
   "source": [
    "from framework.property import NumericalProperty, CategoricalProperty, BooleanProperty\n",
    "from framework.parser.pandas_parser import parse_dataframe_as_items\n",
    "\n",
    "data = pd.read_csv(\"../../../Datasets/Temp/train.csv\")\n",
    "data = data.set_index(\"Id\")\n",
    "sample = data.sample(50)\n",
    "\n",
    "mapping = {\n",
    "    \"YrSold\": NumericalProperty,\n",
    "    \"LotFrontage\": NumericalProperty,\n",
    "    \"PoolArea\": NumericalProperty,\n",
    "    \"Fireplaces\": NumericalProperty\n",
    "}\n",
    "\n",
    "items = parse_dataframe_as_items(sample, mapping)"
   ]
  },
  {
   "cell_type": "markdown",
   "metadata": {},
   "source": [
    "Where an item looks like this"
   ]
  },
  {
   "cell_type": "code",
   "execution_count": 3,
   "metadata": {},
   "outputs": [
    {
     "name": "stdout",
     "output_type": "stream",
     "text": [
      "<id:439, properties:{'YrSold': '2007.0', 'LotFrontage': '40.0', 'PoolArea': '0.0', 'Fireplaces': '1.0'}>\n"
     ]
    }
   ],
   "source": [
    "item = items[0]\n",
    "print(item)"
   ]
  },
  {
   "cell_type": "markdown",
   "metadata": {},
   "source": [
    "## Unit critique types\n",
    "The base of all types of critiques are called **unit critiques**. These critiques target an individual property and give feedback of how the designated property needs to change. All currently implemtented types are documented with an example.\n",
    "\n",
    "(Currently) unit critique types only support having *enums* as attributes. This is mainly to facilitate the automation of evaluating a critiqueing recommender. These need to be able to create all possible critiques which would be impossible if the parameter range was not finite."
   ]
  },
  {
   "cell_type": "markdown",
   "metadata": {},
   "source": [
    "### NotCritique"
   ]
  },
  {
   "cell_type": "markdown",
   "metadata": {},
   "source": [
    "<!-- TODO later add using similar items, not just all items -->\n",
    "For example, lets take an attribute with a value that is identical with a lot of other items"
   ]
  },
  {
   "cell_type": "code",
   "execution_count": 4,
   "metadata": {},
   "outputs": [
    {
     "name": "stdout",
     "output_type": "stream",
     "text": [
      "{'YrSold': 11, 'PoolArea': 48, 'Fireplaces': 22}\n"
     ]
    }
   ],
   "source": [
    "attr_freq = {}\n",
    "for attr_name, attr_val in item.iter_props():\n",
    "    attr_freq[attr_name] = 0\n",
    "    # Check how often the exact same attribute value occurs in the dataset\n",
    "    for other_item in items:\n",
    "        if item != other_item:\n",
    "            if other_item.get_prop(attr_name) == attr_val:\n",
    "                attr_freq[attr_name] += 1\n",
    "                \n",
    "attr_freq = {k: v for k, v in attr_freq.items() if v > 0}\n",
    "print(attr_freq)"
   ]
  },
  {
   "cell_type": "markdown",
   "metadata": {},
   "source": [
    "Now taking a random one that has multiple occurences"
   ]
  },
  {
   "cell_type": "code",
   "execution_count": 5,
   "metadata": {},
   "outputs": [
    {
     "name": "stdout",
     "output_type": "stream",
     "text": [
      "Fireplaces : 22\n"
     ]
    }
   ],
   "source": [
    "import random as rng\n",
    "attr = list(attr_freq.keys())[rng.randrange(len(attr_freq))]\n",
    "attr_count = attr_freq[attr]\n",
    "print(attr, \":\", attr_count)"
   ]
  },
  {
   "cell_type": "markdown",
   "metadata": {},
   "source": [
    "Now when a `NotCritique` is made to exclude other items that have this critique and the critique is incorperated in the feedback loop will prevent from items with the identical attribute being shown"
   ]
  },
  {
   "cell_type": "code",
   "execution_count": 6,
   "metadata": {},
   "outputs": [
    {
     "name": "stdout",
     "output_type": "stream",
     "text": [
      "27\n"
     ]
    }
   ],
   "source": [
    "from framework.critique.unit import NotCritique\n",
    "crit = NotCritique(item[attr])\n",
    "\n",
    "items_after_crit = list(other_item for other_item in items if other_item.id != item.id and crit.passes_critique(other_item[attr]))\n",
    "print(len(items_after_crit))"
   ]
  },
  {
   "cell_type": "markdown",
   "metadata": {},
   "source": [
    "## DirectionalCritique"
   ]
  },
  {
   "cell_type": "markdown",
   "metadata": {},
   "source": [
    "A **directional critique** can be applied to any type property thats allows for comparison besides equivalency. It critiques a property so that any following recommendations require either a **larger** or **smaller** value for that property."
   ]
  },
  {
   "cell_type": "markdown",
   "metadata": {},
   "source": [
    "A example is made with an property for an item that has both items with less and more for that properties value"
   ]
  },
  {
   "cell_type": "code",
   "execution_count": 7,
   "metadata": {},
   "outputs": [
    {
     "name": "stdout",
     "output_type": "stream",
     "text": [
      "{'YrSold': {'smaller': 11, 'larger': 27}, 'LotFrontage': {'smaller': 3, 'larger': 38}, 'PoolArea': {'smaller': 0, 'larger': 1}, 'Fireplaces': {'smaller': 23, 'larger': 4}}\n"
     ]
    }
   ],
   "source": [
    "prop_distr = {}\n",
    "for prop_name, prop_val in item.iter_props():\n",
    "    prop_distr[prop_name] = {\"smaller\": 0, \"larger\": 0}\n",
    "    for other_item in items:\n",
    "        if other_item != item:\n",
    "            if other_item[prop_name] < item[prop_name]:\n",
    "                prop_distr[prop_name][\"smaller\"] += 1\n",
    "            elif other_item[prop_name] > item[prop_name]:\n",
    "                prop_distr[prop_name][\"larger\"] += 1\n",
    "print(prop_distr)"
   ]
  },
  {
   "cell_type": "markdown",
   "metadata": {},
   "source": [
    "When one is randomly picked that has both items with larger and smaller values for the property"
   ]
  },
  {
   "cell_type": "code",
   "execution_count": 8,
   "metadata": {},
   "outputs": [
    {
     "name": "stdout",
     "output_type": "stream",
     "text": [
      "YrSold\n"
     ]
    }
   ],
   "source": [
    "both_prop_distr = list(k for k,v in prop_distr.items() if v[\"smaller\"] > 0 and v[\"larger\"] > 0)\n",
    "chosen_prop = both_prop_distr[rng.randrange(len(both_prop_distr))]\n",
    "print(chosen_prop)"
   ]
  },
  {
   "cell_type": "markdown",
   "metadata": {},
   "source": [
    "When a directional critique is made for each direction, the resulting items for each critique are the amount of items shown above"
   ]
  },
  {
   "cell_type": "code",
   "execution_count": 10,
   "metadata": {},
   "outputs": [
    {
     "name": "stdout",
     "output_type": "stream",
     "text": [
      "Smaller: 11, larger: 27\n"
     ]
    }
   ],
   "source": [
    "from framework.critique.unit.directional_critique import DirectionalCritique, DirectionalCritiqueDirections\n",
    "\n",
    "\n",
    "crit_smaller = DirectionalCritique(item[chosen_prop], DirectionalCritiqueDirections.SMALLER)\n",
    "crit_larger = DirectionalCritique(item[chosen_prop], DirectionalCritiqueDirections.GREATER)\n",
    "\n",
    "crit_items_smaller = list(other_item for other_item in items if item != other_item and crit_smaller.passes_critique(other_item[chosen_prop]))\n",
    "crit_items_larger = list(other_item for other_item in items if item != other_item and crit_larger.passes_critique(other_item[chosen_prop]))\n",
    "\n",
    "print(\"Smaller: {}, larger: {}\".format(len(crit_items_smaller), len(crit_items_larger)))"
   ]
  }
 ],
 "metadata": {
  "kernelspec": {
   "display_name": "conversationalproject_work",
   "language": "python",
   "name": "conversationalproject_work"
  },
  "language_info": {
   "codemirror_mode": {
    "name": "ipython",
    "version": 3
   },
   "file_extension": ".py",
   "mimetype": "text/x-python",
   "name": "python",
   "nbconvert_exporter": "python",
   "pygments_lexer": "ipython3",
   "version": "3.8.3"
  }
 },
 "nbformat": 4,
 "nbformat_minor": 4
}
