{
 "cells": [
  {
   "cell_type": "code",
   "execution_count": 1,
   "metadata": {},
   "outputs": [],
   "source": [
    "import os\n",
    "import sys\n",
    "\n",
    "module_path = os.path.abspath(os.path.join('../../src'))\n",
    "if module_path not in sys.path:\n",
    "    sys.path.append(module_path)"
   ]
  },
  {
   "cell_type": "markdown",
   "metadata": {},
   "source": [
    "# Items\n",
    "\n",
    "At the heart of all systems are the **items**. An **Item** is a representation for an object that has an **id** and a collection of **properties**."
   ]
  },
  {
   "cell_type": "markdown",
   "metadata": {},
   "source": [
    "## Creating items\n",
    "An item, as previously mentioned, is a collection of properties along with an supposedly unique id. These thus need to be provided when creating an item."
   ]
  },
  {
   "cell_type": "code",
   "execution_count": 2,
   "metadata": {},
   "outputs": [
    {
     "name": "stdout",
     "output_type": "stream",
     "text": [
      "<id:45, properties:{'prop1': 'True', 'prop2': 'Category', 'prop3': '12.0'}>\n"
     ]
    }
   ],
   "source": [
    "from framework.item import Item\n",
    "from framework.property import BooleanProperty, CategoricalProperty, NumericalProperty\n",
    "\n",
    "id = 45\n",
    "props = {\n",
    "    \"prop1\": BooleanProperty(\"true\", custom_deserialize=lambda x: True if x == \"true\" else False),\n",
    "    \"prop2\": CategoricalProperty(\"Category\"),\n",
    "    \"prop3\": NumericalProperty(12)\n",
    "}\n",
    "\n",
    "item = Item(id, props)\n",
    "print(item)"
   ]
  },
  {
   "cell_type": "markdown",
   "metadata": {},
   "source": [
    "A helper function is provided that allows skipping manual creation of properties is provided. It needs to provided with the raw property values, to which type they need to mapped and, optionally, how to map them instead of the default way."
   ]
  },
  {
   "cell_type": "code",
   "execution_count": 3,
   "metadata": {},
   "outputs": [
    {
     "name": "stdout",
     "output_type": "stream",
     "text": [
      "<id:20, properties:{'prop1': 'True', 'prop2': 'Category', 'prop3': '12.0'}>\n"
     ]
    }
   ],
   "source": [
    "from framework.item import create_item_from_raw_values\n",
    "\n",
    "id = 20\n",
    "raw_props = {\n",
    "    \"prop1\": \"true\",\n",
    "    \"prop2\": \"Category\",\n",
    "    \"prop3\": 12\n",
    "}\n",
    "prop_type_map = {\n",
    "    \"prop1\": BooleanProperty,\n",
    "    \"prop2\": CategoricalProperty,\n",
    "    \"prop3\": NumericalProperty\n",
    "}\n",
    "custom_deserialize = {\n",
    "    \"prop1\": lambda x: True if x == \"true\" else False\n",
    "}\n",
    "\n",
    "item = create_item_from_raw_values(id, raw_props, prop_type_map, custom_deserialize)\n",
    "print(item)"
   ]
  },
  {
   "cell_type": "markdown",
   "metadata": {},
   "source": [
    "## Properties\n",
    "### Getting the property values\n",
    "Properties from an item can be queried a couple of ways"
   ]
  },
  {
   "cell_type": "code",
   "execution_count": 4,
   "metadata": {},
   "outputs": [
    {
     "name": "stdout",
     "output_type": "stream",
     "text": [
      "True <class 'framework.property.property.BooleanProperty'>\n",
      "Category <class 'framework.property.property.CategoricalProperty'>\n",
      "#All properties in item:\n",
      "prop1:True <class 'framework.property.property.BooleanProperty'>\n",
      "prop2:Category <class 'framework.property.property.CategoricalProperty'>\n",
      "prop3:12.0 <class 'framework.property.property.NumericalProperty'>\n"
     ]
    }
   ],
   "source": [
    "prop1 = item.get_prop(\"prop1\")\n",
    "print(prop1, type(prop1))\n",
    "prop2 = item[\"prop2\"]\n",
    "print(prop2, type(prop2))\n",
    "\n",
    "# Properties can also be iterated over\n",
    "print(\"#All properties in item:\")\n",
    "for prop_name, prop in item.iter_props():\n",
    "    print(\"{}:{} {}\".format(prop_name, prop, type(prop)))"
   ]
  },
  {
   "cell_type": "markdown",
   "metadata": {},
   "source": [
    "All valid critiques for the properties of the item can be queried"
   ]
  }
 ],
 "metadata": {
  "kernelspec": {
   "display_name": "conversationalproject_work",
   "language": "python",
   "name": "conversationalproject_work"
  },
  "language_info": {
   "codemirror_mode": {
    "name": "ipython",
    "version": 3
   },
   "file_extension": ".py",
   "mimetype": "text/x-python",
   "name": "python",
   "nbconvert_exporter": "python",
   "pygments_lexer": "ipython3",
   "version": "3.8.3"
  }
 },
 "nbformat": 4,
 "nbformat_minor": 4
}
