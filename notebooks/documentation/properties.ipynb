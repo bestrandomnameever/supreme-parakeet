{
 "cells": [
  {
   "cell_type": "code",
   "execution_count": 1,
   "metadata": {},
   "outputs": [],
   "source": [
    "import os\n",
    "import sys\n",
    "\n",
    "module_path = os.path.abspath(os.path.join('../../src'))\n",
    "if module_path not in sys.path:\n",
    "    sys.path.append(module_path)\n",
    "import pandas as pd"
   ]
  },
  {
   "cell_type": "markdown",
   "metadata": {},
   "source": [
    "## Properties\n",
    "Properties are intended to be read-only after creation."
   ]
  },
  {
   "cell_type": "markdown",
   "metadata": {},
   "source": [
    "### Base"
   ]
  },
  {
   "cell_type": "markdown",
   "metadata": {},
   "source": [
    "### General<!-- What a dumb name -->\n",
    "#### NumericalProperty\n",
    "A property that represents a number and thus can be compared to others as well as have their distance measured"
   ]
  },
  {
   "cell_type": "code",
   "execution_count": 2,
   "metadata": {},
   "outputs": [
    {
     "name": "stdout",
     "output_type": "stream",
     "text": [
      "20.0\n",
      "True\n",
      "True\n",
      "40.0\n"
     ]
    }
   ],
   "source": [
    "from framework.property.property import NumericalProperty\n",
    "num_prop = NumericalProperty(20)\n",
    "num_prop_small = NumericalProperty(10)\n",
    "num_prop_large = NumericalProperty(50)\n",
    "print(num_prop)\n",
    "print(num_prop_small < num_prop)\n",
    "print(num_prop_large > num_prop)\n",
    "print(num_prop_large - num_prop_small)"
   ]
  },
  {
   "cell_type": "markdown",
   "metadata": {},
   "source": [
    "It allows "
   ]
  },
  {
   "cell_type": "markdown",
   "metadata": {},
   "source": [
    "### Getting available critiques\n",
    "Each property knows which critique can be possiby applied to it"
   ]
  },
  {
   "cell_type": "code",
   "execution_count": 3,
   "metadata": {},
   "outputs": [
    {
     "name": "stdout",
     "output_type": "stream",
     "text": [
      "[<class 'framework.critique.unit.directional_critique.DirectionalCritique'>, <class 'framework.critique.unit.not_critique.NotCritique'>]\n"
     ]
    }
   ],
   "source": [
    "valid_crits = num_prop.get_valid_critiques()\n",
    "print(valid_crits)"
   ]
  },
  {
   "cell_type": "raw",
   "metadata": {},
   "source": [
    "The possible inputs of a critique need to be clearly defined to facilitate automatic offline evaluation"
   ]
  },
  {
   "cell_type": "code",
   "execution_count": 4,
   "metadata": {},
   "outputs": [
    {
     "name": "stdout",
     "output_type": "stream",
     "text": [
      "<class 'type'> [{'name': 'direction', 'type': <enum 'DirectionalCritiqueDirections'>}]\n",
      "<class 'type'> []\n"
     ]
    }
   ],
   "source": [
    "for valid_crit in valid_crits:\n",
    "    print(type(valid_crit),valid_crit.get_description_parameters())"
   ]
  },
  {
   "cell_type": "markdown",
   "metadata": {},
   "source": [
    "Currently only enums can be used as valid arguments for a critique (allowing other types would make it (atm) impossible to scan over every single possible valid input for a parameter (eg. a random string or a number))"
   ]
  }
 ],
 "metadata": {
  "kernelspec": {
   "display_name": "conversationalproject_work",
   "language": "python",
   "name": "conversationalproject_work"
  },
  "language_info": {
   "codemirror_mode": {
    "name": "ipython",
    "version": 3
   },
   "file_extension": ".py",
   "mimetype": "text/x-python",
   "name": "python",
   "nbconvert_exporter": "python",
   "pygments_lexer": "ipython3",
   "version": "3.8.3"
  }
 },
 "nbformat": 4,
 "nbformat_minor": 4
}
